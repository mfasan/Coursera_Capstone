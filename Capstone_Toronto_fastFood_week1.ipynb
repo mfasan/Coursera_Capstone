{
    "cells": [
        {
            "cell_type": "markdown",
            "metadata": {},
            "source": "# Capstone Project - The Battle of the Neighborhoods\n## Finding the best location to open a fast food restaurant in Toronto"
        },
        {
            "cell_type": "markdown",
            "metadata": {},
            "source": "## Table of Content\n### 1. [Introduction](#intro)\n### 2. [Data](#data)\n"
        },
        {
            "cell_type": "markdown",
            "metadata": {},
            "source": "<a id='intro'></a>\n## 1. Introduction\nThe project is aimed at leveraging the Forsquare location data to solve the problem of identifying the best neighborhood in which to open a new fast food restaurant in Toronto. Details of the project as well as processing of the data used will be described and a neighborhood will be recommended to the client. "
        },
        {
            "cell_type": "markdown",
            "metadata": {},
            "source": "## 1.1 Background Information\nOne of the many decisions that needs to be made when opening a new business is about the location in which the business should be opened. There are usually a lot of factors that may be considered for a location depending on the specific business. One good pointer as to whether a specific area will be potentially good for a business is to consider if there is a similar business in the same or similar areas to the one being considered. In this project, we will explore how information about different locations can be used to decide where to open a new business. Specifically, we are interested in helping a client find the best location for a new fast food (FF) restaurant in Toronto."
        },
        {
            "cell_type": "markdown",
            "metadata": {},
            "source": "## 1.2 Problem Statement\nOur client, Maria is planning to open a new fast food (FF) restaurant in Toronto but needs guidance on the best neighborhood in whihc she can open the restaurant. Mary is not yet decided on the specific fast food (e.g KFC, McDonalds, Burger King) but she is certain that it will be a fast food restaurant. Based on initial conversations with mary, she believes that neighborhoods with an exisiting FF restaurant is a viable option. Neighborhoods that also look similar (in terms of surrounding venues) to another neighborhood with a FF restaurant are also likely to be a good location. However, opening a FF restaurant in a location that already has many FF restaurants or within close proximity to another FF restaurant will create more competition that Maria would prefer to avoid for her new business. Since there are so many neighborhoods, Maria would liek to know whihc neighbourhood is the best location in whichi to open a new FF restaurant in Toronto."
        },
        {
            "cell_type": "markdown",
            "metadata": {},
            "source": "## 1.3 Target Audience\nThis project is targeted at helping a client - Maria to know where to open a new FF restaurant in Toronto based on how many restaurants are currently in each neighborhood and the similarity of each neighborhood to ones with existing fast food restaurants. A similar approach to this analysis can be employed to find the best location for other businesses as well."
        },
        {
            "cell_type": "markdown",
            "metadata": {},
            "source": "<a id='data'></a>\n## 2. Data\nThis project uses data from different sources to address the problem stated. Information about neighborhoods in Toronto will be extracted from a web page. Detailed information about the venues in each neighborhood will then be gathered from Foursquare for further processing\n\n### 2.1 Description of Data\nThe following data are used in the project.\n1. Borough and neighborhoods information: This information is gathered by webscraping a wikipedia page (https://en.wikipedia.org/wiki/List_of_postal_codes_of_Canada:_M) that contains a list of the postal codes, borough, and neighborhoods of Toronto. It is then stored in a data frame. \n2. Longitude and Latitude information: In order to explore a neighborhood using Foursquare, we need the latitude and longitude of the locations. There are two ways in which this information could be gathered. The first approach is to make use of the geocoder package, which provides the latitude and longitude of a given location/postal code. The alternative is to use a CSV file in which this information had already been stored (https://cf-courses-data.s3.us.cloud-object-storage.appdomain.cloud/IBMDeveloperSkillsNetwork-DS0701EN-SkillsNetwork/labs_v1/Geospatial_Coordinates.csv). The project uses this alternative method and reads the latitude and longitude of each neighborhood form the CSV file.\n3. Venues in each neighborhood: In order to analyze the neighborhoods in Toronto, we need more information about the venues around each neighborhood. Foursquare location services provide a way to gather this information and will be used to get data on venues in each neighborhood of Toronto. \n\nAlthough it is possible to limit our analysis to only neighborhoods with 'Toronto' in its name, we decided against this in order to have more neighborhood venues to be explored for the best location for a FF restaurant. A view of the data is provided below.\n"
        },
        {
            "cell_type": "code",
            "execution_count": 1,
            "metadata": {},
            "outputs": [],
            "source": "from bs4 import BeautifulSoup \nimport requests  \nimport pandas as pd"
        },
        {
            "cell_type": "markdown",
            "metadata": {},
            "source": "#### Borough and Neighborhood information "
        },
        {
            "cell_type": "code",
            "execution_count": 2,
            "metadata": {},
            "outputs": [],
            "source": "url = \"https://en.wikipedia.org/wiki/List_of_postal_codes_of_Canada:_M\" #the url containing the data\npage  = requests.get(url).text # get the page\nsoup = BeautifulSoup(page,\"html5lib\") # create a soup object using the variable 'page'\ntable = soup.find('table') # the data is in the first table so we can use find method  \n\ndf = pd.DataFrame(columns=[\"PostalCode\", \"Borough\", \"Neighborhood\"])\nfor row in table.findAll('td'):\n    if row.span.text=='Not assigned':\n        pass\n    else:\n        postalCode = row.p.text[:3]\n        borough = (row.span.text).split('(')[0]\n        neighbor = (((((row.span.text).split('(')[1]).strip(')')).replace(' /',',')).replace(')',' ')).strip(' ')\n        df = df.append({\"PostalCode\":postalCode, \"Borough\":borough, \"Neighborhood\":neighbor}, ignore_index=True)\n# Rename some of the Boroughs\ndf['Borough']=df['Borough'].replace({'Downtown TorontoStn A PO Boxes25 The Esplanade':'Downtown Toronto Stn A',\n                                             'East TorontoBusiness reply mail Processing Centre969 Eastern':'East Toronto Business',\n                                             'EtobicokeNorthwest':'Etobicoke Northwest','East YorkEast Toronto':'East York/East Toronto',\n                                             'MississaugaCanada Post Gateway Processing Centre':'Mississauga'})\n"
        },
        {
            "cell_type": "code",
            "execution_count": 3,
            "metadata": {},
            "outputs": [
                {
                    "name": "stdout",
                    "output_type": "stream",
                    "text": "The neighborhood information: \n\n  PostalCode           Borough                      Neighborhood\n0        M3A        North York                         Parkwoods\n1        M4A        North York                  Victoria Village\n2        M5A  Downtown Toronto         Regent Park, Harbourfront\n3        M6A        North York  Lawrence Manor, Lawrence Heights\n4        M7A      Queen's Park     Ontario Provincial Government\n"
                }
            ],
            "source": "print(\"The neighborhood information: \\n\")\nprint(df.head())"
        },
        {
            "cell_type": "code",
            "execution_count": 4,
            "metadata": {},
            "outputs": [
                {
                    "data": {
                        "text/plain": "(103, 3)"
                    },
                    "execution_count": 4,
                    "metadata": {},
                    "output_type": "execute_result"
                }
            ],
            "source": "df.shape"
        },
        {
            "cell_type": "markdown",
            "metadata": {},
            "source": "We see that there are 103 neighborhoods in Toronto."
        },
        {
            "cell_type": "markdown",
            "metadata": {},
            "source": "#### Longitude and latitude information"
        },
        {
            "cell_type": "markdown",
            "metadata": {},
            "source": "In order to explore the neighborhoods using Foursquare location data, we need the latitude and longitude of each neighborhood. One option for getting these information is to use the function below and execute over the range of the neighborhoods. However, a CSV file containing the longitude and latitudes of these locations is available. We read the location information from this file and update the data frame to contain the latitude and longitude for each data frame."
        },
        {
            "cell_type": "code",
            "execution_count": 5,
            "metadata": {},
            "outputs": [
                {
                    "name": "stdout",
                    "output_type": "stream",
                    "text": "The coordinates information:\n\n  PostalCode   Latitude  Longitude\n0        M1B  43.806686 -79.194353\n1        M1C  43.784535 -79.160497\n2        M1E  43.763573 -79.188711\n3        M1G  43.770992 -79.216917\n4        M1H  43.773136 -79.239476\n\nThe shape of the coordinates information from the file:  (103, 3)\n"
                }
            ],
            "source": "# Alternatively get coordinates from here\npath='https://cf-courses-data.s3.us.cloud-object-storage.appdomain.cloud/IBMDeveloperSkillsNetwork-DS0701EN-SkillsNetwork/labs_v1/Geospatial_Coordinates.csv'\ndf_coord = pd.read_csv(path)\n\ndf_coord.columns = [\"PostalCode\", \"Latitude\", \"Longitude\"]\nprint(\"The coordinates information:\\n\")\nprint(df_coord.head())\nprint(\"\\nThe shape of the coordinates information from the file: \",df_coord.shape)\n"
        },
        {
            "cell_type": "markdown",
            "metadata": {},
            "source": "The coordinates are merged to the neighborhod information as shown below."
        },
        {
            "cell_type": "code",
            "execution_count": 6,
            "metadata": {},
            "outputs": [
                {
                    "data": {
                        "text/html": "<div>\n<style scoped>\n    .dataframe tbody tr th:only-of-type {\n        vertical-align: middle;\n    }\n\n    .dataframe tbody tr th {\n        vertical-align: top;\n    }\n\n    .dataframe thead th {\n        text-align: right;\n    }\n</style>\n<table border=\"1\" class=\"dataframe\">\n  <thead>\n    <tr style=\"text-align: right;\">\n      <th></th>\n      <th>PostalCode</th>\n      <th>Borough</th>\n      <th>Neighborhood</th>\n      <th>Latitude</th>\n      <th>Longitude</th>\n    </tr>\n  </thead>\n  <tbody>\n    <tr>\n      <th>0</th>\n      <td>M3A</td>\n      <td>North York</td>\n      <td>Parkwoods</td>\n      <td>43.753259</td>\n      <td>-79.329656</td>\n    </tr>\n    <tr>\n      <th>1</th>\n      <td>M4A</td>\n      <td>North York</td>\n      <td>Victoria Village</td>\n      <td>43.725882</td>\n      <td>-79.315572</td>\n    </tr>\n    <tr>\n      <th>2</th>\n      <td>M5A</td>\n      <td>Downtown Toronto</td>\n      <td>Regent Park, Harbourfront</td>\n      <td>43.654260</td>\n      <td>-79.360636</td>\n    </tr>\n    <tr>\n      <th>3</th>\n      <td>M6A</td>\n      <td>North York</td>\n      <td>Lawrence Manor, Lawrence Heights</td>\n      <td>43.718518</td>\n      <td>-79.464763</td>\n    </tr>\n    <tr>\n      <th>4</th>\n      <td>M7A</td>\n      <td>Queen's Park</td>\n      <td>Ontario Provincial Government</td>\n      <td>43.662301</td>\n      <td>-79.389494</td>\n    </tr>\n    <tr>\n      <th>...</th>\n      <td>...</td>\n      <td>...</td>\n      <td>...</td>\n      <td>...</td>\n      <td>...</td>\n    </tr>\n    <tr>\n      <th>98</th>\n      <td>M8X</td>\n      <td>Etobicoke</td>\n      <td>The Kingsway, Montgomery Road, Old Mill North</td>\n      <td>43.653654</td>\n      <td>-79.506944</td>\n    </tr>\n    <tr>\n      <th>99</th>\n      <td>M4Y</td>\n      <td>Downtown Toronto</td>\n      <td>Church and Wellesley</td>\n      <td>43.665860</td>\n      <td>-79.383160</td>\n    </tr>\n    <tr>\n      <th>100</th>\n      <td>M7Y</td>\n      <td>East Toronto Business</td>\n      <td>Enclave of M4L</td>\n      <td>43.662744</td>\n      <td>-79.321558</td>\n    </tr>\n    <tr>\n      <th>101</th>\n      <td>M8Y</td>\n      <td>Etobicoke</td>\n      <td>Old Mill South, King's Mill Park, Sunnylea, Hu...</td>\n      <td>43.636258</td>\n      <td>-79.498509</td>\n    </tr>\n    <tr>\n      <th>102</th>\n      <td>M8Z</td>\n      <td>Etobicoke</td>\n      <td>Mimico NW, The Queensway West, South of Bloor,...</td>\n      <td>43.628841</td>\n      <td>-79.520999</td>\n    </tr>\n  </tbody>\n</table>\n<p>103 rows \u00d7 5 columns</p>\n</div>",
                        "text/plain": "    PostalCode                Borough  \\\n0          M3A             North York   \n1          M4A             North York   \n2          M5A       Downtown Toronto   \n3          M6A             North York   \n4          M7A           Queen's Park   \n..         ...                    ...   \n98         M8X              Etobicoke   \n99         M4Y       Downtown Toronto   \n100        M7Y  East Toronto Business   \n101        M8Y              Etobicoke   \n102        M8Z              Etobicoke   \n\n                                          Neighborhood   Latitude  Longitude  \n0                                            Parkwoods  43.753259 -79.329656  \n1                                     Victoria Village  43.725882 -79.315572  \n2                            Regent Park, Harbourfront  43.654260 -79.360636  \n3                     Lawrence Manor, Lawrence Heights  43.718518 -79.464763  \n4                        Ontario Provincial Government  43.662301 -79.389494  \n..                                                 ...        ...        ...  \n98       The Kingsway, Montgomery Road, Old Mill North  43.653654 -79.506944  \n99                                Church and Wellesley  43.665860 -79.383160  \n100                                     Enclave of M4L  43.662744 -79.321558  \n101  Old Mill South, King's Mill Park, Sunnylea, Hu...  43.636258 -79.498509  \n102  Mimico NW, The Queensway West, South of Bloor,...  43.628841 -79.520999  \n\n[103 rows x 5 columns]"
                    },
                    "execution_count": 6,
                    "metadata": {},
                    "output_type": "execute_result"
                }
            ],
            "source": "df = pd.merge(df, df_coord, on='PostalCode')\ndf"
        },
        {
            "cell_type": "markdown",
            "metadata": {},
            "source": "The resulting data consist of the complete 103 neighborhood with their coordinate information added."
        },
        {
            "cell_type": "markdown",
            "metadata": {},
            "source": "#### Venues in each Neighbourhood"
        },
        {
            "cell_type": "markdown",
            "metadata": {},
            "source": "We query Foursquare for the venues in each neighborhood."
        },
        {
            "cell_type": "code",
            "execution_count": 7,
            "metadata": {},
            "outputs": [],
            "source": "# The code was removed by Watson Studio for sharing."
        },
        {
            "cell_type": "code",
            "execution_count": 8,
            "metadata": {},
            "outputs": [],
            "source": "VERSION = '20180605' # Foursquare API version\nLIMIT = 100 # A default Foursquare API limit value\nRADIUS = 500"
        },
        {
            "cell_type": "code",
            "execution_count": 9,
            "metadata": {},
            "outputs": [],
            "source": "# Function to get nearby venues for given latitude and longitude \ndef getNearbyVenues(postalCode, boroughs, names, latitudes, longitudes, radius=500):\n    \n    venues_list=[]\n    for code, borough, name, lat, lng in zip(postalCode, boroughs, names, latitudes, longitudes):\n        print(\"Getting venues for {} {} ({})\".format(code, borough, name))\n            \n        # create the API request URL\n        url = 'https://api.foursquare.com/v2/venues/explore?&client_id={}&client_secret={}&v={}&ll={},{}&radius={}&limit={}'.format(\n            CLIENT_ID, \n            CLIENT_SECRET, \n            VERSION, \n            lat, \n            lng, \n            RADIUS, \n            LIMIT)\n            \n        # make the GET request\n        results = requests.get(url).json()[\"response\"]['groups'][0]['items']\n        \n        # return only relevant information for each nearby venue\n        venues_list.append([(\n            code,\n            borough,\n            name, \n            lat, \n            lng, \n            v['venue']['name'], \n            v['venue']['location']['lat'], \n            v['venue']['location']['lng'],  \n            v['venue']['categories'][0]['name']) for v in results])\n\n    nearby_venues = pd.DataFrame([item for venue_list in venues_list for item in venue_list])\n    nearby_venues.columns = ['PostalCode',\n                'Borough',\n                'Neighborhood', \n                'Neighborhood Latitude', \n                'Neighborhood Longitude', \n                'Venue', \n                'Venue Latitude', \n                'Venue Longitude', \n                'Venue Category']\n    \n    return(nearby_venues)"
        },
        {
            "cell_type": "code",
            "execution_count": 10,
            "metadata": {},
            "outputs": [
                {
                    "name": "stdout",
                    "output_type": "stream",
                    "text": "Getting venues for M3A North York (Parkwoods)\nGetting venues for M4A North York (Victoria Village)\nGetting venues for M5A Downtown Toronto (Regent Park, Harbourfront)\nGetting venues for M6A North York (Lawrence Manor, Lawrence Heights)\nGetting venues for M7A Queen's Park (Ontario Provincial Government)\nGetting venues for M9A Etobicoke (Islington Avenue)\nGetting venues for M1B Scarborough (Malvern, Rouge)\nGetting venues for M3B North York (Don Mills North)\nGetting venues for M4B East York (Parkview Hill, Woodbine Gardens)\nGetting venues for M5B Downtown Toronto (Garden District, Ryerson)\nGetting venues for M6B North York (Glencairn)\nGetting venues for M9B Etobicoke (West Deane Park, Princess Gardens, Martin Grove, Islington, Cloverdale)\nGetting venues for M1C Scarborough (Rouge Hill, Port Union, Highland Creek)\nGetting venues for M3C North York (Don Mills South)\nGetting venues for M4C East York (Woodbine Heights)\nGetting venues for M5C Downtown Toronto (St. James Town)\nGetting venues for M6C York (Humewood-Cedarvale)\nGetting venues for M9C Etobicoke (Eringate, Bloordale Gardens, Old Burnhamthorpe, Markland Wood)\nGetting venues for M1E Scarborough (Guildwood, Morningside, West Hill)\nGetting venues for M4E East Toronto (The Beaches)\nGetting venues for M5E Downtown Toronto (Berczy Park)\nGetting venues for M6E York (Caledonia-Fairbanks)\nGetting venues for M1G Scarborough (Woburn)\nGetting venues for M4G East York (Leaside)\nGetting venues for M5G Downtown Toronto (Central Bay Street)\nGetting venues for M6G Downtown Toronto (Christie)\nGetting venues for M1H Scarborough (Cedarbrae)\nGetting venues for M2H North York (Hillcrest Village)\nGetting venues for M3H North York (Bathurst Manor, Wilson Heights, Downsview North)\nGetting venues for M4H East York (Thorncliffe Park)\nGetting venues for M5H Downtown Toronto (Richmond, Adelaide, King)\nGetting venues for M6H West Toronto (Dufferin, Dovercourt Village)\nGetting venues for M1J Scarborough (Scarborough Village)\nGetting venues for M2J North York (Fairview, Henry Farm, Oriole)\nGetting venues for M3J North York (Northwood Park, York University)\nGetting venues for M4J East York/East Toronto (The Danforth  East)\nGetting venues for M5J Downtown Toronto (Harbourfront East, Union Station, Toronto Islands)\nGetting venues for M6J West Toronto (Little Portugal, Trinity)\nGetting venues for M1K Scarborough (Kennedy Park, Ionview, East Birchmount Park)\nGetting venues for M2K North York (Bayview Village)\nGetting venues for M3K North York (Downsview East)\nGetting venues for M4K East Toronto (The Danforth West, Riverdale)\nGetting venues for M5K Downtown Toronto (Toronto Dominion Centre, Design Exchange)\nGetting venues for M6K West Toronto (Brockton, Parkdale Village, Exhibition Place)\nGetting venues for M1L Scarborough (Golden Mile, Clairlea, Oakridge)\nGetting venues for M2L North York (York Mills, Silver Hills)\nGetting venues for M3L North York (Downsview West)\nGetting venues for M4L East Toronto (India Bazaar, The Beaches West)\nGetting venues for M5L Downtown Toronto (Commerce Court, Victoria Hotel)\nGetting venues for M6L North York (North Park, Maple Leaf Park, Upwood Park)\nGetting venues for M9L North York (Humber Summit)\nGetting venues for M1M Scarborough (Cliffside, Cliffcrest, Scarborough Village West)\nGetting venues for M2M North York (Willowdale, Newtonbrook)\nGetting venues for M3M North York (Downsview Central)\nGetting venues for M4M East Toronto (Studio District)\nGetting venues for M5M North York (Bedford Park, Lawrence Manor East)\nGetting venues for M6M York (Del Ray, Mount Dennis, Keelsdale and Silverthorn)\nGetting venues for M9M North York (Humberlea, Emery)\nGetting venues for M1N Scarborough (Birch Cliff, Cliffside West)\nGetting venues for M2N North York (Willowdale South)\nGetting venues for M3N North York (Downsview Northwest)\nGetting venues for M4N Central Toronto (Lawrence Park)\nGetting venues for M5N Central Toronto (Roselawn)\nGetting venues for M6N York (Runnymede, The Junction North)\nGetting venues for M9N York (Weston)\nGetting venues for M1P Scarborough (Dorset Park, Wexford Heights, Scarborough Town Centre)\nGetting venues for M2P North York (York Mills West)\nGetting venues for M4P Central Toronto (Davisville North)\nGetting venues for M5P Central Toronto (Forest Hill North & West)\nGetting venues for M6P West Toronto (High Park, The Junction South)\nGetting venues for M9P Etobicoke (Westmount)\nGetting venues for M1R Scarborough (Wexford, Maryvale)\nGetting venues for M2R North York (Willowdale West)\nGetting venues for M4R Central Toronto (North Toronto West)\nGetting venues for M5R Central Toronto (The Annex, North Midtown, Yorkville)\nGetting venues for M6R West Toronto (Parkdale, Roncesvalles)\nGetting venues for M7R Mississauga (Enclave of L4W)\nGetting venues for M9R Etobicoke (Kingsview Village, St. Phillips, Martin Grove Gardens, Richview Gardens)\nGetting venues for M1S Scarborough (Agincourt)\nGetting venues for M4S Central Toronto (Davisville)\nGetting venues for M5S Downtown Toronto (University of Toronto, Harbord)\nGetting venues for M6S West Toronto (Runnymede, Swansea)\nGetting venues for M1T Scarborough (Clarks Corners, Tam O'Shanter, Sullivan)\nGetting venues for M4T Central Toronto (Moore Park, Summerhill East)\nGetting venues for M5T Downtown Toronto (Kensington Market, Chinatown, Grange Park)\nGetting venues for M1V Scarborough (Milliken, Agincourt North, Steeles East, L'Amoreaux East)\nGetting venues for M4V Central Toronto (Summerhill West, Rathnelly, South Hill, Forest Hill SE, Deer Park)\nGetting venues for M5V Downtown Toronto (CN Tower, King and Spadina, Railway Lands, Harbourfront West, Bathurst Quay, South Niagara, Island airport)\nGetting venues for M8V Etobicoke (New Toronto, Mimico South, Humber Bay Shores)\nGetting venues for M9V Etobicoke (South Steeles, Silverstone, Humbergate, Jamestown, Mount Olive, Beaumond Heights, Thistletown, Albion Gardens)\nGetting venues for M1W Scarborough (Steeles West, L'Amoreaux West)\nGetting venues for M4W Downtown Toronto (Rosedale)\nGetting venues for M5W Downtown Toronto Stn A (Enclave of M5E)\nGetting venues for M8W Etobicoke (Alderwood, Long Branch)\nGetting venues for M9W Etobicoke Northwest (Clairville, Humberwood, Woodbine Downs, West Humber, Kipling Heights, Rexdale, Elms, Tandridge, Old Rexdale)\nGetting venues for M1X Scarborough (Upper Rouge)\nGetting venues for M4X Downtown Toronto (St. James Town, Cabbagetown)\nGetting venues for M5X Downtown Toronto (First Canadian Place, Underground city)\nGetting venues for M8X Etobicoke (The Kingsway, Montgomery Road, Old Mill North)\nGetting venues for M4Y Downtown Toronto (Church and Wellesley)\nGetting venues for M7Y East Toronto Business (Enclave of M4L)\nGetting venues for M8Y Etobicoke (Old Mill South, King's Mill Park, Sunnylea, Humber Bay, Mimico NE, The Queensway East, Royal York South East, Kingsway Park South East)\nGetting venues for M8Z Etobicoke (Mimico NW, The Queensway West, South of Bloor, Kingsway Park South West, Royal York South West)\n"
                }
            ],
            "source": "toronto_venues = getNearbyVenues(postalCode=df['PostalCode'],\n                                 boroughs=df['Borough'],\n                                 names=df['Neighborhood'],\n                                 latitudes=df['Latitude'],\n                                 longitudes=df['Longitude']\n                                )"
        },
        {
            "cell_type": "code",
            "execution_count": 11,
            "metadata": {},
            "outputs": [
                {
                    "name": "stdout",
                    "output_type": "stream",
                    "text": "Venue information sample: \n\n"
                },
                {
                    "data": {
                        "text/html": "<div>\n<style scoped>\n    .dataframe tbody tr th:only-of-type {\n        vertical-align: middle;\n    }\n\n    .dataframe tbody tr th {\n        vertical-align: top;\n    }\n\n    .dataframe thead th {\n        text-align: right;\n    }\n</style>\n<table border=\"1\" class=\"dataframe\">\n  <thead>\n    <tr style=\"text-align: right;\">\n      <th></th>\n      <th>PostalCode</th>\n      <th>Borough</th>\n      <th>Neighborhood</th>\n      <th>Neighborhood Latitude</th>\n      <th>Neighborhood Longitude</th>\n      <th>Venue</th>\n      <th>Venue Latitude</th>\n      <th>Venue Longitude</th>\n      <th>Venue Category</th>\n    </tr>\n  </thead>\n  <tbody>\n    <tr>\n      <th>0</th>\n      <td>M3A</td>\n      <td>North York</td>\n      <td>Parkwoods</td>\n      <td>43.753259</td>\n      <td>-79.329656</td>\n      <td>Brookbanks Park</td>\n      <td>43.751976</td>\n      <td>-79.332140</td>\n      <td>Park</td>\n    </tr>\n    <tr>\n      <th>1</th>\n      <td>M3A</td>\n      <td>North York</td>\n      <td>Parkwoods</td>\n      <td>43.753259</td>\n      <td>-79.329656</td>\n      <td>KFC</td>\n      <td>43.754387</td>\n      <td>-79.333021</td>\n      <td>Fast Food Restaurant</td>\n    </tr>\n    <tr>\n      <th>2</th>\n      <td>M3A</td>\n      <td>North York</td>\n      <td>Parkwoods</td>\n      <td>43.753259</td>\n      <td>-79.329656</td>\n      <td>Variety Store</td>\n      <td>43.751974</td>\n      <td>-79.333114</td>\n      <td>Food &amp; Drink Shop</td>\n    </tr>\n    <tr>\n      <th>3</th>\n      <td>M4A</td>\n      <td>North York</td>\n      <td>Victoria Village</td>\n      <td>43.725882</td>\n      <td>-79.315572</td>\n      <td>Victoria Village Arena</td>\n      <td>43.723481</td>\n      <td>-79.315635</td>\n      <td>Hockey Arena</td>\n    </tr>\n    <tr>\n      <th>4</th>\n      <td>M4A</td>\n      <td>North York</td>\n      <td>Victoria Village</td>\n      <td>43.725882</td>\n      <td>-79.315572</td>\n      <td>Tim Hortons</td>\n      <td>43.725517</td>\n      <td>-79.313103</td>\n      <td>Coffee Shop</td>\n    </tr>\n  </tbody>\n</table>\n</div>",
                        "text/plain": "  PostalCode     Borough      Neighborhood  Neighborhood Latitude  \\\n0        M3A  North York         Parkwoods              43.753259   \n1        M3A  North York         Parkwoods              43.753259   \n2        M3A  North York         Parkwoods              43.753259   \n3        M4A  North York  Victoria Village              43.725882   \n4        M4A  North York  Victoria Village              43.725882   \n\n   Neighborhood Longitude                   Venue  Venue Latitude  \\\n0              -79.329656         Brookbanks Park       43.751976   \n1              -79.329656                     KFC       43.754387   \n2              -79.329656           Variety Store       43.751974   \n3              -79.315572  Victoria Village Arena       43.723481   \n4              -79.315572             Tim Hortons       43.725517   \n\n   Venue Longitude        Venue Category  \n0       -79.332140                  Park  \n1       -79.333021  Fast Food Restaurant  \n2       -79.333114     Food & Drink Shop  \n3       -79.315635          Hockey Arena  \n4       -79.313103           Coffee Shop  "
                    },
                    "execution_count": 11,
                    "metadata": {},
                    "output_type": "execute_result"
                }
            ],
            "source": "print(\"Venue information sample: \\n\")\ntoronto_venues.head()"
        },
        {
            "cell_type": "code",
            "execution_count": 12,
            "metadata": {},
            "outputs": [
                {
                    "name": "stdout",
                    "output_type": "stream",
                    "text": "We obtained a total of 2150 venues for all the neighborhoods\n"
                }
            ],
            "source": "(rows, columns) =  toronto_venues.shape\nprint(\"We obtained a total of {} venues for all the neighborhoods\".format(rows))"
        },
        {
            "cell_type": "markdown",
            "metadata": {},
            "source": "In our data exploration, we will look at the categories to better understand each category. But we can already see that there is a Fast Food category, which is exactly the category for the business that our client wants to open. For example, we can check to see how many neighborhoods have each of the categories, the total number of distinct categories of venues and the number of fast food restaurants in each neighborhood. "
        },
        {
            "cell_type": "code",
            "execution_count": 13,
            "metadata": {},
            "outputs": [
                {
                    "data": {
                        "text/html": "<div>\n<style scoped>\n    .dataframe tbody tr th:only-of-type {\n        vertical-align: middle;\n    }\n\n    .dataframe tbody tr th {\n        vertical-align: top;\n    }\n\n    .dataframe thead th {\n        text-align: right;\n    }\n</style>\n<table border=\"1\" class=\"dataframe\">\n  <thead>\n    <tr style=\"text-align: right;\">\n      <th></th>\n      <th>PostalCode</th>\n      <th>Borough</th>\n      <th>Neighborhood</th>\n      <th>Neighborhood Latitude</th>\n      <th>Neighborhood Longitude</th>\n      <th>Venue</th>\n      <th>Venue Latitude</th>\n      <th>Venue Longitude</th>\n    </tr>\n    <tr>\n      <th>Venue Category</th>\n      <th></th>\n      <th></th>\n      <th></th>\n      <th></th>\n      <th></th>\n      <th></th>\n      <th></th>\n      <th></th>\n    </tr>\n  </thead>\n  <tbody>\n    <tr>\n      <th>Accessories Store</th>\n      <td>1</td>\n      <td>1</td>\n      <td>1</td>\n      <td>1</td>\n      <td>1</td>\n      <td>1</td>\n      <td>1</td>\n      <td>1</td>\n    </tr>\n    <tr>\n      <th>Adult Boutique</th>\n      <td>1</td>\n      <td>1</td>\n      <td>1</td>\n      <td>1</td>\n      <td>1</td>\n      <td>1</td>\n      <td>1</td>\n      <td>1</td>\n    </tr>\n    <tr>\n      <th>Airport</th>\n      <td>2</td>\n      <td>2</td>\n      <td>2</td>\n      <td>2</td>\n      <td>2</td>\n      <td>2</td>\n      <td>2</td>\n      <td>2</td>\n    </tr>\n    <tr>\n      <th>Airport Food Court</th>\n      <td>1</td>\n      <td>1</td>\n      <td>1</td>\n      <td>1</td>\n      <td>1</td>\n      <td>1</td>\n      <td>1</td>\n      <td>1</td>\n    </tr>\n    <tr>\n      <th>Airport Gate</th>\n      <td>1</td>\n      <td>1</td>\n      <td>1</td>\n      <td>1</td>\n      <td>1</td>\n      <td>1</td>\n      <td>1</td>\n      <td>1</td>\n    </tr>\n    <tr>\n      <th>...</th>\n      <td>...</td>\n      <td>...</td>\n      <td>...</td>\n      <td>...</td>\n      <td>...</td>\n      <td>...</td>\n      <td>...</td>\n      <td>...</td>\n    </tr>\n    <tr>\n      <th>Wine Bar</th>\n      <td>7</td>\n      <td>7</td>\n      <td>7</td>\n      <td>7</td>\n      <td>7</td>\n      <td>7</td>\n      <td>7</td>\n      <td>7</td>\n    </tr>\n    <tr>\n      <th>Wine Shop</th>\n      <td>1</td>\n      <td>1</td>\n      <td>1</td>\n      <td>1</td>\n      <td>1</td>\n      <td>1</td>\n      <td>1</td>\n      <td>1</td>\n    </tr>\n    <tr>\n      <th>Wings Joint</th>\n      <td>1</td>\n      <td>1</td>\n      <td>1</td>\n      <td>1</td>\n      <td>1</td>\n      <td>1</td>\n      <td>1</td>\n      <td>1</td>\n    </tr>\n    <tr>\n      <th>Women's Store</th>\n      <td>2</td>\n      <td>2</td>\n      <td>2</td>\n      <td>2</td>\n      <td>2</td>\n      <td>2</td>\n      <td>2</td>\n      <td>2</td>\n    </tr>\n    <tr>\n      <th>Yoga Studio</th>\n      <td>14</td>\n      <td>14</td>\n      <td>14</td>\n      <td>14</td>\n      <td>14</td>\n      <td>14</td>\n      <td>14</td>\n      <td>14</td>\n    </tr>\n  </tbody>\n</table>\n<p>278 rows \u00d7 8 columns</p>\n</div>",
                        "text/plain": "                    PostalCode  Borough  Neighborhood  Neighborhood Latitude  \\\nVenue Category                                                                 \nAccessories Store            1        1             1                      1   \nAdult Boutique               1        1             1                      1   \nAirport                      2        2             2                      2   \nAirport Food Court           1        1             1                      1   \nAirport Gate                 1        1             1                      1   \n...                        ...      ...           ...                    ...   \nWine Bar                     7        7             7                      7   \nWine Shop                    1        1             1                      1   \nWings Joint                  1        1             1                      1   \nWomen's Store                2        2             2                      2   \nYoga Studio                 14       14            14                     14   \n\n                    Neighborhood Longitude  Venue  Venue Latitude  \\\nVenue Category                                                      \nAccessories Store                        1      1               1   \nAdult Boutique                           1      1               1   \nAirport                                  2      2               2   \nAirport Food Court                       1      1               1   \nAirport Gate                             1      1               1   \n...                                    ...    ...             ...   \nWine Bar                                 7      7               7   \nWine Shop                                1      1               1   \nWings Joint                              1      1               1   \nWomen's Store                            2      2               2   \nYoga Studio                             14     14              14   \n\n                    Venue Longitude  \nVenue Category                       \nAccessories Store                 1  \nAdult Boutique                    1  \nAirport                           2  \nAirport Food Court                1  \nAirport Gate                      1  \n...                             ...  \nWine Bar                          7  \nWine Shop                         1  \nWings Joint                       1  \nWomen's Store                     2  \nYoga Studio                      14  \n\n[278 rows x 8 columns]"
                    },
                    "execution_count": 13,
                    "metadata": {},
                    "output_type": "execute_result"
                }
            ],
            "source": "toronto_venues.groupby('Venue Category').count()"
        },
        {
            "cell_type": "code",
            "execution_count": 21,
            "metadata": {},
            "outputs": [
                {
                    "name": "stdout",
                    "output_type": "stream",
                    "text": "There are 278 unique categories in the venues data.\n"
                }
            ],
            "source": "print('There are {} unique categories in the venues data.'.format(len(toronto_venues['Venue Category'].unique())))"
        },
        {
            "cell_type": "code",
            "execution_count": 35,
            "metadata": {},
            "outputs": [
                {
                    "name": "stdout",
                    "output_type": "stream",
                    "text": "The total number of fast food restaurant in neighborhoods with with at least 1.\n\n"
                },
                {
                    "data": {
                        "text/html": "<div>\n<style scoped>\n    .dataframe tbody tr th:only-of-type {\n        vertical-align: middle;\n    }\n\n    .dataframe tbody tr th {\n        vertical-align: top;\n    }\n\n    .dataframe thead th {\n        text-align: right;\n    }\n</style>\n<table border=\"1\" class=\"dataframe\">\n  <thead>\n    <tr style=\"text-align: right;\">\n      <th></th>\n      <th>Neighborhood</th>\n      <th>No_of_restaurants</th>\n    </tr>\n  </thead>\n  <tbody>\n    <tr>\n      <th>0</th>\n      <td>Bedford Park, Lawrence Manor East</td>\n      <td>1</td>\n    </tr>\n    <tr>\n      <th>1</th>\n      <td>Church and Wellesley</td>\n      <td>2</td>\n    </tr>\n    <tr>\n      <th>2</th>\n      <td>Clarks Corners, Tam O'Shanter, Sullivan</td>\n      <td>2</td>\n    </tr>\n    <tr>\n      <th>3</th>\n      <td>Commerce Court, Victoria Hotel</td>\n      <td>1</td>\n    </tr>\n    <tr>\n      <th>4</th>\n      <td>Enclave of M4L</td>\n      <td>1</td>\n    </tr>\n    <tr>\n      <th>5</th>\n      <td>Enclave of M5E</td>\n      <td>1</td>\n    </tr>\n    <tr>\n      <th>6</th>\n      <td>Fairview, Henry Farm, Oriole</td>\n      <td>4</td>\n    </tr>\n    <tr>\n      <th>7</th>\n      <td>Garden District, Ryerson</td>\n      <td>2</td>\n    </tr>\n    <tr>\n      <th>8</th>\n      <td>High Park, The Junction South</td>\n      <td>1</td>\n    </tr>\n    <tr>\n      <th>9</th>\n      <td>Hillcrest Village</td>\n      <td>1</td>\n    </tr>\n    <tr>\n      <th>10</th>\n      <td>India Bazaar, The Beaches West</td>\n      <td>1</td>\n    </tr>\n    <tr>\n      <th>11</th>\n      <td>Malvern, Rouge</td>\n      <td>1</td>\n    </tr>\n    <tr>\n      <th>12</th>\n      <td>Mimico NW, The Queensway West, South of Bloor,...</td>\n      <td>1</td>\n    </tr>\n    <tr>\n      <th>13</th>\n      <td>New Toronto, Mimico South, Humber Bay Shores</td>\n      <td>1</td>\n    </tr>\n    <tr>\n      <th>14</th>\n      <td>North Toronto West</td>\n      <td>1</td>\n    </tr>\n    <tr>\n      <th>15</th>\n      <td>Parkwoods</td>\n      <td>1</td>\n    </tr>\n    <tr>\n      <th>16</th>\n      <td>Richmond, Adelaide, King</td>\n      <td>1</td>\n    </tr>\n    <tr>\n      <th>17</th>\n      <td>Roselawn</td>\n      <td>1</td>\n    </tr>\n    <tr>\n      <th>18</th>\n      <td>South Steeles, Silverstone, Humbergate, Jamest...</td>\n      <td>1</td>\n    </tr>\n    <tr>\n      <th>19</th>\n      <td>Steeles West, L'Amoreaux West</td>\n      <td>1</td>\n    </tr>\n    <tr>\n      <th>20</th>\n      <td>Thorncliffe Park</td>\n      <td>1</td>\n    </tr>\n    <tr>\n      <th>21</th>\n      <td>Toronto Dominion Centre, Design Exchange</td>\n      <td>1</td>\n    </tr>\n    <tr>\n      <th>22</th>\n      <td>Willowdale South</td>\n      <td>1</td>\n    </tr>\n  </tbody>\n</table>\n</div>",
                        "text/plain": "                                         Neighborhood  No_of_restaurants\n0                   Bedford Park, Lawrence Manor East                  1\n1                                Church and Wellesley                  2\n2             Clarks Corners, Tam O'Shanter, Sullivan                  2\n3                      Commerce Court, Victoria Hotel                  1\n4                                      Enclave of M4L                  1\n5                                      Enclave of M5E                  1\n6                        Fairview, Henry Farm, Oriole                  4\n7                            Garden District, Ryerson                  2\n8                       High Park, The Junction South                  1\n9                                   Hillcrest Village                  1\n10                     India Bazaar, The Beaches West                  1\n11                                     Malvern, Rouge                  1\n12  Mimico NW, The Queensway West, South of Bloor,...                  1\n13       New Toronto, Mimico South, Humber Bay Shores                  1\n14                                 North Toronto West                  1\n15                                          Parkwoods                  1\n16                           Richmond, Adelaide, King                  1\n17                                           Roselawn                  1\n18  South Steeles, Silverstone, Humbergate, Jamest...                  1\n19                      Steeles West, L'Amoreaux West                  1\n20                                   Thorncliffe Park                  1\n21           Toronto Dominion Centre, Design Exchange                  1\n22                                   Willowdale South                  1"
                    },
                    "execution_count": 35,
                    "metadata": {},
                    "output_type": "execute_result"
                }
            ],
            "source": "print(\"The total number of fast food restaurant in neighborhoods with with at least 1.\\n\")\nff_restaurants = (toronto_venues[toronto_venues['Venue Category']=='Fast Food Restaurant'].groupby('Neighborhood').count()).reset_index()[['Neighborhood', 'Venue Category']]\nff_restaurants.columns=['Neighborhood', 'No_of_restaurants']\nff_restaurants"
        },
        {
            "cell_type": "markdown",
            "metadata": {},
            "source": "### 2.2 How the Data will be used\nThe data will be used to arrive at a recommendation of a neighbourhood where a new FF restaurant is best located. \n\nWe will start out with a data frame containing all the neighbourhoods in Toronto. Latitudes and Longitudes of the neighborhoods will then be added to the data frame. This infromation will be used to query Foursquare location services to obtain venues in each neighborhood. Each venue usually belongs to a venue category in the obtained data. For the purpose of the project, we are particularly interest in the Fast Food Restaurant category since it describes exactly the business that our client is interested in opening. However, to better understand the neighborhoods and how similar they are to each other, the complete set of data for all neighborhoods and venue categories will be used to cluster the neighborhoods into groups of similar neighborhoods.\n\nUsing the data frame that contains the complete list of venues in each neighborhood, we do some data cleaning to prepare the data for one-hot ending of the venue categories. We will then use the resulting data of one-hot encoding to do some exploratory analysis to see some of the most common venues in each neighborhood. In order to identify neighborhoods that are similar to one another, the _k_-means model will be used to cluster the neighborhood into a number of clusters. The method employed to identify the best number for _k_ is the Elbow method. \n\nThroughout the project report, we willl use plots and Folium maps for visual exploratory analysis and understanding of the neighborhoods and other data.\n\nOnce we have the clusters defined, we will explore each cluster more closely and find the average number of FF restuarants in each cluster. Our goal is to find the top 2 clusters with the highest average number of restaurants within the cluster. We decided to use the top 2 clusters in order to have more neighborhoods to further explore. Although having highest average number of FF restaurants in a cluster would imply that there is demand for fast food in that cluster, we also want to limit the amount of competition that the business would face when opened in a neighborhood within the cluster. To find the best neighborhood for the business, we will calculate a distance matrix to show the distance between neighborhoods with no existing FF restaurant and those with at least one FF restaurant within the best clusters earlier identified. Distance to neighborhoods with multiple FF restaurant will be multiplied by the number of restaurants in the neighborhood for a better analysis of the competition that may be faced. Finally we find the maximum average distance across all neighborhoods that currently have no FF restaurant but which are within the best clusters identified. The maximum average distance implies that it has the least amount of competition with existing FF restaurants that are in the best clusters earlier identified but it is still within a neighborhood where FF restaurants are in high demand. \n\nThe analysis will lead to the identification of the best 2 neighborhoods in which our client may open a new fast food restaurant in Toronto. The neighborhoods are shown on the map together with other neighborhoods and their clustering. Neighborhoods will existing fast food restaurants will also be identified on the final map for a visual identification of the best neighborhoods found for the new business.\n"
        },
        {
            "cell_type": "code",
            "execution_count": null,
            "metadata": {},
            "outputs": [],
            "source": ""
        }
    ],
    "metadata": {
        "kernelspec": {
            "display_name": "Python 3.7",
            "language": "python",
            "name": "python3"
        },
        "language_info": {
            "codemirror_mode": {
                "name": "ipython",
                "version": 3
            },
            "file_extension": ".py",
            "mimetype": "text/x-python",
            "name": "python",
            "nbconvert_exporter": "python",
            "pygments_lexer": "ipython3",
            "version": "3.7.10"
        }
    },
    "nbformat": 4,
    "nbformat_minor": 5
}